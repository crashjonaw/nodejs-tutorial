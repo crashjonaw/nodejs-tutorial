{
 "cells": [
  {
   "cell_type": "markdown",
   "metadata": {},
   "source": [
    "# Getting Started"
   ]
  },
  {
   "cell_type": "markdown",
   "metadata": {},
   "source": [
    "## What is Node?"
   ]
  },
  {
   "cell_type": "markdown",
   "metadata": {},
   "source": [
    "- opensource runtime environment for executing Javascript code outside of browsers\n",
    "- building APIs - Application Programming Interface\n",
    "- build highly scalable, data-intensive, real-time apps\n",
    "- great for prototyping agile development\n",
    "- use JavaScript\n",
    "- Cleaner and more consistent codebase"
   ]
  },
  {
   "cell_type": "markdown",
   "metadata": {},
   "source": [
    "## Node Architecture"
   ]
  },
  {
   "cell_type": "markdown",
   "metadata": {},
   "source": [
    "- contains v8 javascript engine which is also used in Chrome\n",
    "- asynchronus nature (non-blocking) by default\n",
    "- single thread used to handling multiple request\n",
    "- ideal for I/O intensive apps\n",
    "- not be used with CPU-Intensive Apps but only for data intensive and web applications"
   ]
  },
  {
   "cell_type": "markdown",
   "metadata": {},
   "source": [
    "## Course Structure"
   ]
  },
  {
   "cell_type": "markdown",
   "metadata": {},
   "source": [
    "- Node Module System\n",
    "- Node Package System\n",
    "- Build RESTful APIs with Express\n",
    "- Asynchronous JavaScript\n",
    "- Storing Data in MongolDB\n",
    "- Authentication and Authorization\n",
    "- Handling and Loggin Errors\n",
    "- Unit and Integration Testing\n",
    "- Test-drive Development (TDD)\n",
    "- Deployment to Heroku"
   ]
  },
  {
   "cell_type": "code",
   "execution_count": null,
   "metadata": {},
   "outputs": [],
   "source": []
  }
 ],
 "metadata": {
  "kernelspec": {
   "display_name": "Python 3",
   "language": "python",
   "name": "python3"
  },
  "language_info": {
   "codemirror_mode": {
    "name": "ipython",
    "version": 3
   },
   "file_extension": ".py",
   "mimetype": "text/x-python",
   "name": "python",
   "nbconvert_exporter": "python",
   "pygments_lexer": "ipython3",
   "version": "3.6.3"
  }
 },
 "nbformat": 4,
 "nbformat_minor": 2
}
